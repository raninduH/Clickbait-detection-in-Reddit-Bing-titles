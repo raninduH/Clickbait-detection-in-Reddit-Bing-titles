{
  "nbformat": 4,
  "nbformat_minor": 0,
  "metadata": {
    "colab": {
      "provenance": [],
      "gpuType": "T4"
    },
    "kernelspec": {
      "name": "python3",
      "display_name": "Python 3"
    },
    "language_info": {
      "name": "python"
    },
    "accelerator": "GPU"
  },
  "cells": [
    {
      "cell_type": "markdown",
      "source": [
        "Import the libraries"
      ],
      "metadata": {
        "id": "wRN-1DsXa3Xa"
      }
    },
    {
      "cell_type": "code",
      "source": [
        "import pandas as pd\n",
        "import numpy as np\n",
        "from sklearn.model_selection import train_test_split\n",
        "from tensorflow.keras.preprocessing.text import Tokenizer\n",
        "from tensorflow.keras.preprocessing.sequence import pad_sequences\n",
        "from tensorflow.keras.models import Sequential\n",
        "from tensorflow.keras.layers import Embedding, Conv1D, GlobalMaxPooling1D, Dense, Dropout, BatchNormalization\n",
        "import tensorflow as tf\n",
        "from google.colab import files"
      ],
      "metadata": {
        "id": "JLUqdmR5a6-7"
      },
      "execution_count": null,
      "outputs": []
    },
    {
      "cell_type": "markdown",
      "source": [
        "load and prepare the dataset"
      ],
      "metadata": {
        "id": "Un9y7tNDa8cg"
      }
    },
    {
      "cell_type": "code",
      "source": [
        "file_path = \"clickbait.csv\"  # Path to your CSV file\n",
        "data = pd.read_csv(file_path)\n",
        "\n",
        "# Display the first few rows to confirm the data structure\n",
        "print(data.head())"
      ],
      "metadata": {
        "colab": {
          "base_uri": "https://localhost:8080/"
        },
        "id": "tSsvb31NbEEs",
        "outputId": "22c88f93-d080-4aaf-ba8e-4e7b63a2dfc4"
      },
      "execution_count": null,
      "outputs": [
        {
          "output_type": "stream",
          "name": "stdout",
          "text": [
            "                                               title  label\n",
            "0  15 Highly Important Questions About Adulthood,...      1\n",
            "1  250 Nuns Just Cycled All The Way From Kathmand...      1\n",
            "2  Australian comedians \"could have been shot\" du...      0\n",
            "3  Lycos launches screensaver to increase spammer...      0\n",
            "4  Fußball-Bundesliga 2008–09: Goalkeeper Butt si...      0\n"
          ]
        }
      ]
    },
    {
      "cell_type": "markdown",
      "source": [
        "preprocess the text and the labels"
      ],
      "metadata": {
        "id": "F5y1d9RsbLrK"
      }
    },
    {
      "cell_type": "code",
      "source": [
        "titles = data['title'].values\n",
        "labels = data['label'].values"
      ],
      "metadata": {
        "id": "HdfkTGXPbRvh"
      },
      "execution_count": null,
      "outputs": []
    },
    {
      "cell_type": "markdown",
      "source": [
        "Tockenize and pad the sequences"
      ],
      "metadata": {
        "id": "c0Zkpy0sbT9S"
      }
    },
    {
      "cell_type": "code",
      "source": [
        "vocab_size = 10000  # Maximum number of words in the vocabulary\n",
        "max_len = 50  # Maximum number of words in a title (padding/truncating length)\n",
        "\n",
        "# Initialize and fit the tokenizer\n",
        "tokenizer = Tokenizer(num_words=vocab_size, oov_token='<OOV>')\n",
        "tokenizer.fit_on_texts(titles)\n",
        "\n",
        "#convert the text to sequence\n",
        "sequences = tokenizer.texts_to_sequences(titles)\n",
        "\n",
        "# pad the sequences to the same length\n",
        "padded_sequences = pad_sequences(sequences, maxlen=max_len, padding='post', truncating='post')"
      ],
      "metadata": {
        "id": "5bnSitvvbWtF"
      },
      "execution_count": null,
      "outputs": []
    },
    {
      "cell_type": "markdown",
      "source": [
        "Split the dataset into training and testing\n",
        "and validation\n"
      ],
      "metadata": {
        "id": "NOMgrvDjkLBp"
      }
    },
    {
      "cell_type": "code",
      "source": [
        "# # spliting data for traingingNtesting and validation\n",
        "# X_trainNtest, X_validate, Y_trainNtest, Y_validate = train_test_split(padded_sequences, labels, test_size=0.2, random_state=42)\n",
        "\n",
        "# # spliting data for training and testing\n",
        "# X_train, X_test, Y_train, Y_test = train_test_split(X_trainNtest, Y_trainNtest, test_size=0.2, random_state=42)\n",
        "\n",
        "# First, split into training + validation and test sets\n",
        "X_trainNval, X_test, Y_trainNval, Y_test = train_test_split(padded_sequences, labels, test_size=0.6, random_state=42)\n",
        "\n",
        "# Then, split the training + validation set into training and validation sets\n",
        "X_train, X_validate, Y_train, Y_validate = train_test_split(X_trainNval, Y_trainNval, test_size=0.4, random_state=32)\n",
        "\n",
        "\n",
        "# random number that is used when shuffling data.\n",
        "# if this is not given it will generate a random number and use it to shuffle. but then if we do this again we'll get a different split. but if we configure once like this and also the next time\n",
        "# then the same split can be acquried."
      ],
      "metadata": {
        "id": "a_dBbztjkNuz"
      },
      "execution_count": null,
      "outputs": []
    },
    {
      "cell_type": "markdown",
      "source": [
        "creating the RNN"
      ],
      "metadata": {
        "id": "0e8ur3BLlTFJ"
      }
    },
    {
      "cell_type": "code",
      "source": [
        "embedding_dim = 128  # Embedding vector size\n",
        "\n",
        "# initial_model = Sequential([\n",
        "#     Embedding(input_dim=vocab_size, output_dim=embedding_dim, input_length=max_len),\n",
        "#     Conv1D(filters=128, kernel_size=5, activation='relu'),\n",
        "#     GlobalMaxPooling1D(),\n",
        "#     Dense(128, activation='relu'),\n",
        "#     Dropout(0.5),\n",
        "#     Dense(1, activation='sigmoid')\n",
        "# ])\n",
        "\n",
        "\n",
        "initial_model = Sequential([\n",
        "    Embedding(input_dim=vocab_size, output_dim=embedding_dim, input_length=max_len),\n",
        "    Conv1D(filters=128, kernel_size=5, activation='relu'),\n",
        "    GlobalMaxPooling1D(),\n",
        "    Dense(64, activation='relu', kernel_regularizer=tf.keras.regularizers.l2(0.01)),\n",
        "    Dropout(0.6),\n",
        "    BatchNormalization(),\n",
        "    Dense(1, activation='sigmoid')\n",
        "])\n"
      ],
      "metadata": {
        "colab": {
          "base_uri": "https://localhost:8080/"
        },
        "id": "ld5K2OZOoSYY",
        "outputId": "20d425d2-464c-46ad-902e-cde371338f97"
      },
      "execution_count": null,
      "outputs": [
        {
          "output_type": "stream",
          "name": "stderr",
          "text": [
            "/usr/local/lib/python3.10/dist-packages/keras/src/layers/core/embedding.py:90: UserWarning: Argument `input_length` is deprecated. Just remove it.\n",
            "  warnings.warn(\n"
          ]
        }
      ]
    },
    {
      "cell_type": "markdown",
      "source": [
        "Compile the model"
      ],
      "metadata": {
        "id": "NSsyRMgrzeVj"
      }
    },
    {
      "cell_type": "code",
      "source": [
        "initial_model.compile(optimizer='adam', loss='binary_crossentropy', metrics=['accuracy'])"
      ],
      "metadata": {
        "id": "Fs4GZrMbzgRv"
      },
      "execution_count": null,
      "outputs": []
    },
    {
      "cell_type": "code",
      "source": [
        "print(len(padded_sequences))\n",
        "print(len(labels))\n",
        "\n",
        "print(len(X_trainNval))\n",
        "print(len(X_validate))\n",
        "print(len(X_train))\n",
        "print(len(X_test))\n",
        "\n"
      ],
      "metadata": {
        "colab": {
          "base_uri": "https://localhost:8080/"
        },
        "id": "5Nx6XxuE13j4",
        "outputId": "9bb5cda9-2a89-4f33-a2ff-3ab1ff275b2c"
      },
      "execution_count": null,
      "outputs": [
        {
          "output_type": "stream",
          "name": "stdout",
          "text": [
            "31986\n",
            "31986\n",
            "12794\n",
            "5118\n",
            "7676\n",
            "19192\n"
          ]
        }
      ]
    },
    {
      "cell_type": "markdown",
      "source": [
        "Train the model"
      ],
      "metadata": {
        "id": "Gonfq8WRz3up"
      }
    },
    {
      "cell_type": "code",
      "source": [
        "history = initial_model.fit(X_train, Y_train, epochs=5, batch_size=32, validation_data=(X_validate, Y_validate))\n",
        "\n"
      ],
      "metadata": {
        "colab": {
          "base_uri": "https://localhost:8080/"
        },
        "id": "24l8GTlhz5dr",
        "outputId": "37f276cb-b8cb-4958-815a-c859edeae2c8"
      },
      "execution_count": null,
      "outputs": [
        {
          "output_type": "stream",
          "name": "stdout",
          "text": [
            "Epoch 1/5\n",
            "\u001b[1m240/240\u001b[0m \u001b[32m━━━━━━━━━━━━━━━━━━━━\u001b[0m\u001b[37m\u001b[0m \u001b[1m18s\u001b[0m 39ms/step - accuracy: 0.7822 - loss: 1.0028 - val_accuracy: 0.9590 - val_loss: 0.4750\n",
            "Epoch 2/5\n",
            "\u001b[1m240/240\u001b[0m \u001b[32m━━━━━━━━━━━━━━━━━━━━\u001b[0m\u001b[37m\u001b[0m \u001b[1m2s\u001b[0m 7ms/step - accuracy: 0.9844 - loss: 0.1860 - val_accuracy: 0.9615 - val_loss: 0.1659\n",
            "Epoch 3/5\n",
            "\u001b[1m240/240\u001b[0m \u001b[32m━━━━━━━━━━━━━━━━━━━━\u001b[0m\u001b[37m\u001b[0m \u001b[1m3s\u001b[0m 7ms/step - accuracy: 0.9959 - loss: 0.0607 - val_accuracy: 0.9623 - val_loss: 0.1138\n",
            "Epoch 4/5\n",
            "\u001b[1m240/240\u001b[0m \u001b[32m━━━━━━━━━━━━━━━━━━━━\u001b[0m\u001b[37m\u001b[0m \u001b[1m2s\u001b[0m 8ms/step - accuracy: 0.9975 - loss: 0.0269 - val_accuracy: 0.9613 - val_loss: 0.1244\n",
            "Epoch 5/5\n",
            "\u001b[1m240/240\u001b[0m \u001b[32m━━━━━━━━━━━━━━━━━━━━\u001b[0m\u001b[37m\u001b[0m \u001b[1m3s\u001b[0m 8ms/step - accuracy: 0.9986 - loss: 0.0175 - val_accuracy: 0.9610 - val_loss: 0.1337\n"
          ]
        }
      ]
    },
    {
      "cell_type": "markdown",
      "source": [
        "Additionally generated Data prepartion for validation"
      ],
      "metadata": {
        "id": "tp1iZ1sKDsb-"
      }
    },
    {
      "cell_type": "code",
      "source": [
        "file_path = \"generated_clickbait.csv\"  # Path to your CSV file\n",
        "data = pd.read_csv(file_path)\n",
        "\n",
        "# Display the first few rows to confirm the data structure\n",
        "print(data.head())\n",
        "\n",
        "\n",
        "generated_title = data['title'].values\n",
        "generated_labels = data['label'].values\n",
        "\n",
        "print(len(generated_title))\n",
        "print(len(generated_labels))\n",
        "\n",
        "#convert the text to sequence\n",
        "generated_validation_sequences = tokenizer.texts_to_sequences(generated_title)\n",
        "\n",
        "# pad the sequences to the same length\n",
        "padded_generated_validation_sequences = pad_sequences(generated_validation_sequences, maxlen=max_len, padding='post', truncating='post')"
      ],
      "metadata": {
        "colab": {
          "base_uri": "https://localhost:8080/"
        },
        "id": "UUN5ELyfDyPz",
        "outputId": "c547962f-473c-4f49-ae40-219b55aa17fa"
      },
      "execution_count": null,
      "outputs": [
        {
          "output_type": "stream",
          "name": "stdout",
          "text": [
            "                                               title  label\n",
            "0  21 Things Only People Who Love Coffee Will Und...      1\n",
            "1  30 Things You Didn't Know You Needed Until Rig...      1\n",
            "2       12 Ways To Make Your Mornings Less Miserable      1\n",
            "3  Scientists Discover New Species In The Depths ...      0\n",
            "4  Local Bakery Wins National Award For Best Croi...      0\n",
            "126\n",
            "126\n"
          ]
        }
      ]
    },
    {
      "cell_type": "markdown",
      "source": [
        "Additional dataset downloaded from Kaggle, data preparation"
      ],
      "metadata": {
        "id": "ULFmBJD6G3s-"
      }
    },
    {
      "cell_type": "code",
      "source": [
        "file_path = \"kaggle_clickbait_data.csv\"  # Path to your CSV file\n",
        "data = pd.read_csv(file_path)\n",
        "\n",
        "# Display the first few rows to confirm the data structure\n",
        "print(data.head())\n",
        "\n",
        "\n",
        "kaggle_title = data['title'].values\n",
        "kaggle_labels = data['label'].values\n",
        "\n",
        "print(len(generated_title))\n",
        "print(len(generated_labels))\n",
        "\n",
        "#convert the text to sequence\n",
        "kaggle_test_sequences = tokenizer.texts_to_sequences(generated_title)\n",
        "\n",
        "# pad the sequences to the same length\n",
        "padded_kaggle_test_sequences = pad_sequences(kaggle_test_sequences, maxlen=max_len, padding='post', truncating='post')"
      ],
      "metadata": {
        "colab": {
          "base_uri": "https://localhost:8080/"
        },
        "id": "RJXc7o69G9TN",
        "outputId": "43a8679a-5fad-44fd-d6c8-e7d1ea0bacd6"
      },
      "execution_count": null,
      "outputs": [
        {
          "output_type": "stream",
          "name": "stdout",
          "text": [
            "                                               title  label\n",
            "0                                 Should I Get Bings      1\n",
            "1      Which TV Female Friend Group Do You Belong In      1\n",
            "2  The New \"Star Wars: The Force Awakens\" Trailer...      1\n",
            "3  This Vine Of New York On \"Celebrity Big Brothe...      1\n",
            "4  A Couple Did A Stunning Photo Shoot With Their...      1\n",
            "32000\n",
            "32000\n"
          ]
        }
      ]
    },
    {
      "cell_type": "markdown",
      "source": [
        "Evaluate the model"
      ],
      "metadata": {
        "id": "Nd9Bl7GY0J2C"
      }
    },
    {
      "cell_type": "code",
      "source": [
        "test_loss, test_acc = initial_model.evaluate(padded_kaggle_test_sequences, kaggle_labels)\n",
        "print(f\"Test Accuracy: {test_acc}\")"
      ],
      "metadata": {
        "colab": {
          "base_uri": "https://localhost:8080/"
        },
        "id": "Pjdi435L0Pu0",
        "outputId": "51726b07-883d-4e0c-9283-2f7547c4a5f9"
      },
      "execution_count": null,
      "outputs": [
        {
          "output_type": "stream",
          "name": "stdout",
          "text": [
            "\u001b[1m1000/1000\u001b[0m \u001b[32m━━━━━━━━━━━━━━━━━━━━\u001b[0m\u001b[37m\u001b[0m \u001b[1m2s\u001b[0m 2ms/step - accuracy: 0.9639 - loss: 0.1261\n",
            "Test Accuracy: 0.9696875214576721\n"
          ]
        }
      ]
    },
    {
      "cell_type": "markdown",
      "source": [
        "perform predictions"
      ],
      "metadata": {
        "id": "PrxuPXiX0WA0"
      }
    },
    {
      "cell_type": "code",
      "source": [
        "predictions = initial_model.predict(X_test)\n",
        "print(predictions[:30])  # Display the first 10 predictions\n",
        "\n",
        "# Convert probabilities to binary predictions\n",
        "threshold = 0.5\n",
        "binary_predictions = (predictions >= threshold).astype(int)\n",
        "\n",
        "print(binary_predictions[:10])  # Display the first 10 binary predictions"
      ],
      "metadata": {
        "colab": {
          "base_uri": "https://localhost:8080/"
        },
        "id": "NEDczT2T0Xjg",
        "outputId": "eecb5d57-bdf7-4624-84db-afe0b9d09ee4"
      },
      "execution_count": null,
      "outputs": [
        {
          "output_type": "stream",
          "name": "stdout",
          "text": [
            "\u001b[1m200/200\u001b[0m \u001b[32m━━━━━━━━━━━━━━━━━━━━\u001b[0m\u001b[37m\u001b[0m \u001b[1m1s\u001b[0m 2ms/step\n",
            "[[1.0000000e+00]\n",
            " [1.5503602e-04]\n",
            " [1.0000000e+00]\n",
            " [3.0969048e-08]\n",
            " [1.0000000e+00]\n",
            " [9.9994171e-01]\n",
            " [9.9999976e-01]\n",
            " [7.4523103e-11]\n",
            " [1.6532070e-03]\n",
            " [9.9992537e-01]\n",
            " [1.0214184e-04]\n",
            " [9.9985981e-01]\n",
            " [1.5888825e-06]\n",
            " [1.0000000e+00]\n",
            " [3.4886951e-05]\n",
            " [5.5405515e-04]\n",
            " [1.9450525e-07]\n",
            " [5.9666822e-04]\n",
            " [9.9994969e-01]\n",
            " [9.9999976e-01]\n",
            " [1.0000000e+00]\n",
            " [2.4595835e-07]\n",
            " [1.0000000e+00]\n",
            " [9.9999595e-01]\n",
            " [1.0000000e+00]\n",
            " [1.4334894e-06]\n",
            " [1.0000000e+00]\n",
            " [3.7126327e-05]\n",
            " [9.9999821e-01]\n",
            " [2.0115014e-05]]\n",
            "[[1]\n",
            " [0]\n",
            " [1]\n",
            " [0]\n",
            " [1]\n",
            " [1]\n",
            " [1]\n",
            " [0]\n",
            " [0]\n",
            " [1]]\n"
          ]
        }
      ]
    },
    {
      "cell_type": "markdown",
      "source": [
        "Read the tartgetTitles from the train.jsonl and validation.jsonl"
      ],
      "metadata": {
        "id": "4E8XyFNhHxv4"
      }
    },
    {
      "cell_type": "code",
      "source": [
        "import json\n",
        "\n",
        "# Function to read JSONL files and extract targetTitles\n",
        "def extract_titles_from_jsonl(file_path):\n",
        "    titles = []\n",
        "    with open(file_path, 'r') as file:\n",
        "        for line in file:\n",
        "            data = json.loads(line)\n",
        "            if 'targetTitle' in data:\n",
        "                titles.append(data['targetTitle'])\n",
        "    return titles\n",
        "\n",
        "train_file_path = 'train.jsonl'\n",
        "validation_file_path = 'validation.jsonl'\n",
        "\n",
        "train_titles = extract_titles_from_jsonl(train_file_path)\n",
        "validation_titles = extract_titles_from_jsonl(validation_file_path)\n",
        "\n",
        "all_unlabelled_titles = train_titles + validation_titles\n"
      ],
      "metadata": {
        "id": "OFVpP2skH3db"
      },
      "execution_count": null,
      "outputs": []
    },
    {
      "cell_type": "code",
      "source": [
        "print(\"First 10 training titles:\")\n",
        "for i, title in enumerate(train_titles[:10]):\n",
        "    print(f\"{i+1}. {title}\")\n",
        "print(len(train_titles))\n",
        "\n",
        "print(\"First 10 validation titles:\")\n",
        "for i, title in enumerate(validation_titles[:10]):\n",
        "    print(f\"{i+1}. {title}\")\n",
        "print(len(validation_titles))"
      ],
      "metadata": {
        "colab": {
          "base_uri": "https://localhost:8080/"
        },
        "id": "_Uav3BYdm0Mj",
        "outputId": "bd48eee5-1e6b-4c74-dfdc-eaa44b118908"
      },
      "execution_count": null,
      "outputs": [
        {
          "output_type": "stream",
          "name": "stdout",
          "text": [
            "First 10 training titles:\n",
            "1. Wes Welker Wanted Dinner With Tom Brady, But Patriots QB Had A Better Idea\n",
            "2. Hole In Ozone Layer Expected To Make Full Recovery By 2070: NASA\n",
            "3. Intellectual Stimulation Trumps Money For Employee Happiness, Survey Finds\n",
            "4. ‘Follow your passion’ is wrong, here are 7 habits you need instead\n",
            "5. Revealed: The perfect way to cook rice so that it's perfectly fluffy and NEVER sticks to the bottom of the pan \n",
            "6. Here's what happens if your Apple AirPods get lost or stolen\n",
            "7. The Reason Why Gabor Kiraly Wears THOSE Trackie Bottoms\n",
            "8. You’ll Never Believe What This Family Saw in the Sky Outside Their House in Finland.\n",
            "9. Should I Drink Red Wine?\n",
            "10. Taste test: 29 hot sauce bottles, ranked\n",
            "3200\n",
            "First 10 validation titles:\n",
            "1. Five Nights at Freddy’s Sequel Delayed for Weird Reason\n",
            "2. Why Arizona Sheriff Joe Arpaio’s fate could hang on a single word\n",
            "3. Here’s how much you should be tipping your hairdresser\n",
            "4. Alan Rickman & Rupert Grint On 'CBGB,' Reuniting Post-'Potter' And Favorite Halloween Costumes\n",
            "5. Man swallowed a microSD card and you won't believe what happened next!\n",
            "6. Sprite May Be The Best Hangover Cure, Chinese Researchers Say\n",
            "7. The Anytime Snack You Won't Feel Guilty About Eating (VIDEO)\n",
            "8. You Won’t Believe This Stunning ‘Harry Potter’ Revelation About Professor McGonagall\n",
            "9. J.J. Abrams has an answer on if there will be a post-credits scene in the new 'Star Wars'\n",
            "10. Kristin Cavallari Talks 'The Hills' Being Fake\n",
            "800\n"
          ]
        }
      ]
    },
    {
      "cell_type": "markdown",
      "source": [
        "extracting padded seuqnces of unlabelled training data and validation data\n"
      ],
      "metadata": {
        "id": "DB1mfV8-DObk"
      }
    },
    {
      "cell_type": "code",
      "source": [
        "# function to extract padded sequences\n",
        "def extract_padded_seuqnces(titles):\n",
        "\n",
        "  unlabelled_sequences = tokenizer.texts_to_sequences(titles)\n",
        "  padded_sequences = pad_sequences(unlabelled_sequences, maxlen=max_len, padding='post', truncating='post')\n",
        "  return padded_sequences\n",
        "\n",
        "padded_unlabelled_training_sequences = extract_padded_seuqnces(train_titles)\n",
        "padded_unlabelled_validation_sequences = extract_padded_seuqnces(validation_titles)\n",
        "\n",
        "padded_unlabelled_all_sequences = extract_padded_seuqnces(all_unlabelled_titles)\n"
      ],
      "metadata": {
        "id": "T97ONFewDS4F"
      },
      "execution_count": null,
      "outputs": []
    },
    {
      "cell_type": "markdown",
      "source": [
        "generate the pseudo labels for the unlabelled data"
      ],
      "metadata": {
        "id": "Oa5jZ1BsU5Tg"
      }
    },
    {
      "cell_type": "code",
      "source": [
        "# function to generate pseudo labels for unlabelled data and process them\n",
        "\n",
        "def generate_formatted_pseudo_labels(padded_sequences):\n",
        "  pseudo_labels = initial_model.predict(padded_sequences)\n",
        "  pseudo_labels = (pseudo_labels > 0.5).astype(int).flatten() # rounding off the predicted values to 1 or 0.\n",
        "  return pseudo_labels\n",
        "\n",
        "# pseudo_labels_training = generate_formatted_pseudo_labels(padded_unlabelled_training_sequences)\n",
        "# pseudo_labels_validation = generate_formatted_pseudo_labels(padded_unlabelled_validation_sequences)\n",
        "\n",
        "pseudo_labels = generate_formatted_pseudo_labels(padded_unlabelled_all_sequences)\n",
        "\n",
        "print(pseudo_labels)"
      ],
      "metadata": {
        "colab": {
          "base_uri": "https://localhost:8080/"
        },
        "id": "TSO-17wyU8Rh",
        "outputId": "298c856d-55f8-4cc7-c240-3c5ceec65b71"
      },
      "execution_count": null,
      "outputs": [
        {
          "output_type": "stream",
          "name": "stdout",
          "text": [
            "\u001b[1m125/125\u001b[0m \u001b[32m━━━━━━━━━━━━━━━━━━━━\u001b[0m\u001b[37m\u001b[0m \u001b[1m0s\u001b[0m 1ms/step\n",
            "[1 0 0 ... 1 0 0]\n"
          ]
        }
      ]
    },
    {
      "cell_type": "markdown",
      "source": [
        "combine the\n",
        "\n",
        "1.   labelled and unlabelled sequences\n",
        "2.   labels and pseudo labels\n",
        "\n",
        "\n"
      ],
      "metadata": {
        "id": "3TFbSX6jV4zy"
      }
    },
    {
      "cell_type": "code",
      "source": [
        "X_combined = np.vstack((padded_sequences, padded_unlabelled_all_sequences))\n",
        "y_combined = np.concatenate((labels, pseudo_labels))"
      ],
      "metadata": {
        "id": "TJ2tEFShV9aT"
      },
      "execution_count": null,
      "outputs": []
    },
    {
      "cell_type": "markdown",
      "source": [
        "Split the unlabelled data set\n"
      ],
      "metadata": {
        "id": "m3ydaSMjO9pe"
      }
    },
    {
      "cell_type": "code",
      "source": [
        "# final_X_train, final_X_test,  final_Y_train, final_Y_test = train_test_split(X_combined, y_combined, test_size=0.25, random_state=42)\n",
        "\n",
        "# spliting data for trainingNtesting and validation\n",
        "final_X_trainNval, final_X_test,  final_Y_trainNval, final_Y_test = train_test_split(X_combined, y_combined, test_size=0.25, random_state=42)\n",
        "\n",
        "# spliting data for training and testing\n",
        "final_X_train, final_X_validate,  final_Y_train, final_Y_validate = train_test_split(final_X_trainNval, final_Y_trainNval, test_size=0.3, random_state=42)\n",
        "\n"
      ],
      "metadata": {
        "id": "ANTMYzO2PAX6"
      },
      "execution_count": null,
      "outputs": []
    },
    {
      "cell_type": "code",
      "source": [
        "print(len(final_X_trainNtest))\n",
        "print(len(final_X_validate))\n",
        "print(len(final_X_train))\n",
        "print(len(final_X_test))"
      ],
      "metadata": {
        "colab": {
          "base_uri": "https://localhost:8080/"
        },
        "id": "MVM1pLtupztR",
        "outputId": "ae4d3e23-758b-4fb4-d536-e5a3fd14d2ff"
      },
      "execution_count": null,
      "outputs": [
        {
          "output_type": "stream",
          "name": "stdout",
          "text": [
            "26989\n",
            "8997\n",
            "18892\n",
            "8097\n"
          ]
        }
      ]
    },
    {
      "cell_type": "markdown",
      "source": [
        "Build the final model"
      ],
      "metadata": {
        "id": "yKEb1avFStTv"
      }
    },
    {
      "cell_type": "code",
      "source": [
        "final_model = Sequential([\n",
        "    Embedding(input_dim=vocab_size, output_dim=embedding_dim, input_length=max_len),\n",
        "    Conv1D(filters=128, kernel_size=5, activation='relu'),\n",
        "    GlobalMaxPooling1D(),\n",
        "    Dense(128, activation='relu'),\n",
        "    Dropout(0.5),\n",
        "    Dense(1, activation='sigmoid')\n",
        "])"
      ],
      "metadata": {
        "id": "DD2QtE19SvP9"
      },
      "execution_count": null,
      "outputs": []
    },
    {
      "cell_type": "markdown",
      "source": [
        "Compile the final model"
      ],
      "metadata": {
        "id": "b1frE23KTz0v"
      }
    },
    {
      "cell_type": "code",
      "source": [
        "final_model.compile(optimizer='adam', loss='binary_crossentropy', metrics=['accuracy'])"
      ],
      "metadata": {
        "id": "6NdY3IBXT1ZY"
      },
      "execution_count": null,
      "outputs": []
    },
    {
      "cell_type": "markdown",
      "source": [
        "Train the final model"
      ],
      "metadata": {
        "id": "rH4CPS3YULC8"
      }
    },
    {
      "cell_type": "code",
      "source": [
        "final_model.fit(final_X_train, final_Y_train, epochs=5, batch_size=32, validation_data=(final_X_validate,final_Y_validate) )\n",
        "\n"
      ],
      "metadata": {
        "colab": {
          "base_uri": "https://localhost:8080/"
        },
        "id": "YW3ckx_8al0P",
        "outputId": "fee7bcb2-2090-4c5b-e49a-4f3301ddfca7"
      },
      "execution_count": null,
      "outputs": [
        {
          "output_type": "stream",
          "name": "stdout",
          "text": [
            "Epoch 1/5\n",
            "\u001b[1m591/591\u001b[0m \u001b[32m━━━━━━━━━━━━━━━━━━━━\u001b[0m\u001b[37m\u001b[0m \u001b[1m6s\u001b[0m 7ms/step - accuracy: 0.8430 - loss: 0.3241 - val_accuracy: 0.9573 - val_loss: 0.1074\n",
            "Epoch 2/5\n",
            "\u001b[1m591/591\u001b[0m \u001b[32m━━━━━━━━━━━━━━━━━━━━\u001b[0m\u001b[37m\u001b[0m \u001b[1m2s\u001b[0m 3ms/step - accuracy: 0.9868 - loss: 0.0421 - val_accuracy: 0.9621 - val_loss: 0.1059\n",
            "Epoch 3/5\n",
            "\u001b[1m591/591\u001b[0m \u001b[32m━━━━━━━━━━━━━━━━━━━━\u001b[0m\u001b[37m\u001b[0m \u001b[1m3s\u001b[0m 4ms/step - accuracy: 0.9973 - loss: 0.0094 - val_accuracy: 0.9616 - val_loss: 0.1372\n",
            "Epoch 4/5\n",
            "\u001b[1m591/591\u001b[0m \u001b[32m━━━━━━━━━━━━━━━━━━━━\u001b[0m\u001b[37m\u001b[0m \u001b[1m2s\u001b[0m 4ms/step - accuracy: 0.9989 - loss: 0.0036 - val_accuracy: 0.9578 - val_loss: 0.2275\n",
            "Epoch 5/5\n",
            "\u001b[1m591/591\u001b[0m \u001b[32m━━━━━━━━━━━━━━━━━━━━\u001b[0m\u001b[37m\u001b[0m \u001b[1m2s\u001b[0m 3ms/step - accuracy: 0.9991 - loss: 0.0022 - val_accuracy: 0.9595 - val_loss: 0.1941\n"
          ]
        },
        {
          "output_type": "execute_result",
          "data": {
            "text/plain": [
              "<keras.src.callbacks.history.History at 0x7806a8718d30>"
            ]
          },
          "metadata": {},
          "execution_count": 22
        }
      ]
    },
    {
      "cell_type": "markdown",
      "source": [
        "Test the accuracy of the final model"
      ],
      "metadata": {
        "id": "lf9jKLXUbEkq"
      }
    },
    {
      "cell_type": "code",
      "source": [
        "final_test_loss, final_test_acc = final_model.evaluate(final_X_test, final_Yl_test)\n",
        "print(f\"Final Test Accuracy: {final_test_acc}\")"
      ],
      "metadata": {
        "colab": {
          "base_uri": "https://localhost:8080/"
        },
        "id": "nB4T2uqabHO2",
        "outputId": "20a77eb7-8b97-4570-ae13-9bf5820f703a"
      },
      "execution_count": null,
      "outputs": [
        {
          "output_type": "stream",
          "name": "stdout",
          "text": [
            "\u001b[1m282/282\u001b[0m \u001b[32m━━━━━━━━━━━━━━━━━━━━\u001b[0m\u001b[37m\u001b[0m \u001b[1m1s\u001b[0m 4ms/step - accuracy: 0.9606 - loss: 0.1985\n",
            "Final Test Accuracy: 0.9593197703361511\n"
          ]
        }
      ]
    },
    {
      "cell_type": "markdown",
      "source": [
        "predict the validation data set with the final model"
      ],
      "metadata": {
        "id": "Y4iewOMmlIIO"
      }
    },
    {
      "cell_type": "code",
      "source": [
        "predictions = final_model.predict(final_X_validate)\n",
        "# print(predictions[:30])  # Display the first 10 predictions\n",
        "\n",
        "# Convert probabilities to binary predictions\n",
        "threshold = 0.5\n",
        "binary_predictions = (predictions >= threshold).astype(int)\n",
        "\n",
        "# print(binary_predictions[:10])\n",
        "\n",
        "num_to_print = 10\n",
        "\n",
        "# Print titles and predictions\n",
        "print(f\"{'Title':<50} {'Prediction':<20}\")\n",
        "print(\"=\"*70)\n",
        "\n",
        "for title, prediction in zip(validation_titles[:num_to_print], binary_predictions[:num_to_print]):\n",
        "    print(f\"{title:<50} {prediction}\")"
      ],
      "metadata": {
        "colab": {
          "base_uri": "https://localhost:8080/"
        },
        "id": "iuRPP97klKzN",
        "outputId": "5543669c-7ce2-4b73-ba21-5fc2315a7108"
      },
      "execution_count": null,
      "outputs": [
        {
          "output_type": "stream",
          "name": "stdout",
          "text": [
            "\u001b[1m282/282\u001b[0m \u001b[32m━━━━━━━━━━━━━━━━━━━━\u001b[0m\u001b[37m\u001b[0m \u001b[1m1s\u001b[0m 2ms/step\n",
            "Title                                              Prediction          \n",
            "======================================================================\n",
            "Five Nights at Freddy’s Sequel Delayed for Weird Reason [0]\n",
            "Why Arizona Sheriff Joe Arpaio’s fate could hang on a single word [1]\n",
            "Here’s how much you should be tipping your hairdresser [0]\n",
            "Alan Rickman & Rupert Grint On 'CBGB,' Reuniting Post-'Potter' And Favorite Halloween Costumes [1]\n",
            "Man swallowed a microSD card and you won't believe what happened next! [0]\n",
            "Sprite May Be The Best Hangover Cure, Chinese Researchers Say [0]\n",
            "The Anytime Snack You Won't Feel Guilty About Eating (VIDEO) [1]\n",
            "You Won’t Believe This Stunning ‘Harry Potter’ Revelation About Professor McGonagall [0]\n",
            "J.J. Abrams has an answer on if there will be a post-credits scene in the new 'Star Wars' [1]\n",
            "Kristin Cavallari Talks 'The Hills' Being Fake     [1]\n"
          ]
        }
      ]
    },
    {
      "cell_type": "markdown",
      "source": [
        "Save model"
      ],
      "metadata": {
        "id": "h41UbIf_q_NZ"
      }
    },
    {
      "cell_type": "code",
      "source": [
        "# Save the model to a file (HDF5 format)\n",
        "final_model.save('CNN_clickbait_model_v1.h5')\n",
        "\n",
        "# Save the model to a directory (SavedModel format)\n",
        "final_model.save('CNN_clickbait_model_v1.keras')\n"
      ],
      "metadata": {
        "colab": {
          "base_uri": "https://localhost:8080/"
        },
        "id": "WoIiWKUPrAaM",
        "outputId": "02bfa7b4-31a7-4281-c9c0-872843b8dd37"
      },
      "execution_count": null,
      "outputs": [
        {
          "output_type": "stream",
          "name": "stderr",
          "text": [
            "WARNING:absl:You are saving your model as an HDF5 file via `model.save()` or `keras.saving.save_model(model)`. This file format is considered legacy. We recommend using instead the native Keras format, e.g. `model.save('my_model.keras')` or `keras.saving.save_model(model, 'my_model.keras')`. \n"
          ]
        }
      ]
    },
    {
      "cell_type": "markdown",
      "source": [
        "Download model"
      ],
      "metadata": {
        "id": "0-LYClzErFO7"
      }
    },
    {
      "cell_type": "code",
      "source": [
        "\n",
        "# For HDF5 format\n",
        "# files.download('my_model.h5')\n",
        "\n",
        "# For TensorFlow SavedModel format\n",
        "# Use the directory name instead of a file name\n",
        "!zip -r CNN_clickbait_model_v1.zip CNN_clickbait_model_v1.keras\n",
        "from google.colab import files\n",
        "\n",
        "files.download('CNN_clickbait_model_v1.zip')\n"
      ],
      "metadata": {
        "colab": {
          "base_uri": "https://localhost:8080/",
          "height": 34
        },
        "id": "sB3jw0BcrGjW",
        "outputId": "2b7b111a-cd8a-4569-997d-dac6e605fca5"
      },
      "execution_count": null,
      "outputs": [
        {
          "output_type": "stream",
          "name": "stdout",
          "text": [
            "  adding: CNN_clickbait_model_v1.keras (deflated 7%)\n"
          ]
        },
        {
          "output_type": "display_data",
          "data": {
            "text/plain": [
              "<IPython.core.display.Javascript object>"
            ],
            "application/javascript": [
              "\n",
              "    async function download(id, filename, size) {\n",
              "      if (!google.colab.kernel.accessAllowed) {\n",
              "        return;\n",
              "      }\n",
              "      const div = document.createElement('div');\n",
              "      const label = document.createElement('label');\n",
              "      label.textContent = `Downloading \"${filename}\": `;\n",
              "      div.appendChild(label);\n",
              "      const progress = document.createElement('progress');\n",
              "      progress.max = size;\n",
              "      div.appendChild(progress);\n",
              "      document.body.appendChild(div);\n",
              "\n",
              "      const buffers = [];\n",
              "      let downloaded = 0;\n",
              "\n",
              "      const channel = await google.colab.kernel.comms.open(id);\n",
              "      // Send a message to notify the kernel that we're ready.\n",
              "      channel.send({})\n",
              "\n",
              "      for await (const message of channel.messages) {\n",
              "        // Send a message to notify the kernel that we're ready.\n",
              "        channel.send({})\n",
              "        if (message.buffers) {\n",
              "          for (const buffer of message.buffers) {\n",
              "            buffers.push(buffer);\n",
              "            downloaded += buffer.byteLength;\n",
              "            progress.value = downloaded;\n",
              "          }\n",
              "        }\n",
              "      }\n",
              "      const blob = new Blob(buffers, {type: 'application/binary'});\n",
              "      const a = document.createElement('a');\n",
              "      a.href = window.URL.createObjectURL(blob);\n",
              "      a.download = filename;\n",
              "      div.appendChild(a);\n",
              "      a.click();\n",
              "      div.remove();\n",
              "    }\n",
              "  "
            ]
          },
          "metadata": {}
        },
        {
          "output_type": "display_data",
          "data": {
            "text/plain": [
              "<IPython.core.display.Javascript object>"
            ],
            "application/javascript": [
              "download(\"download_2dec1487-90fd-429f-af98-6f667d1c522c\", \"CNN_clickbait_model_v1.zip\", 15408487)"
            ]
          },
          "metadata": {}
        }
      ]
    }
  ]
}