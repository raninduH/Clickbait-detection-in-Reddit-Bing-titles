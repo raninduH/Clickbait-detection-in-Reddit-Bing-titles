{
  "nbformat": 4,
  "nbformat_minor": 0,
  "metadata": {
    "colab": {
      "provenance": [],
      "gpuType": "V28"
    },
    "kernelspec": {
      "name": "python3",
      "display_name": "Python 3"
    },
    "language_info": {
      "name": "python"
    },
    "accelerator": "TPU"
  },
  "cells": [
    {
      "cell_type": "markdown",
      "source": [
        "Import the libraries"
      ],
      "metadata": {
        "id": "wRN-1DsXa3Xa"
      }
    },
    {
      "cell_type": "code",
      "source": [
        "import pandas as pd\n",
        "import numpy as np\n",
        "from sklearn.model_selection import train_test_split\n",
        "from tensorflow.keras.preprocessing.text import Tokenizer\n",
        "from tensorflow.keras.preprocessing.sequence import pad_sequences\n",
        "from tensorflow.keras.models import Sequential\n",
        "from tensorflow.keras.layers import Embedding, Conv1D, GlobalMaxPooling1D, Dense, Dropout, BatchNormalization\n",
        "import tensorflow as tf\n",
        "from google.colab import files\n",
        "import numpy as np\n"
      ],
      "metadata": {
        "id": "JLUqdmR5a6-7"
      },
      "execution_count": null,
      "outputs": []
    },
    {
      "cell_type": "markdown",
      "source": [
        "load the dataset 1"
      ],
      "metadata": {
        "id": "Un9y7tNDa8cg"
      }
    },
    {
      "cell_type": "code",
      "source": [
        "file_path = \"clickbait.csv\"  # Path to your CSV file\n",
        "data = pd.read_csv(file_path)\n",
        "\n",
        "# Display the first few rows to confirm the data structure\n",
        "print(data.head())\n",
        "\n",
        "titles_one = data['title'].values\n",
        "labels_one = data['label'].values"
      ],
      "metadata": {
        "colab": {
          "base_uri": "https://localhost:8080/"
        },
        "id": "tSsvb31NbEEs",
        "outputId": "7d99bb63-ef61-4332-f656-2f07d022c891"
      },
      "execution_count": null,
      "outputs": [
        {
          "output_type": "stream",
          "name": "stdout",
          "text": [
            "                                               title  label\n",
            "0  15 Highly Important Questions About Adulthood,...      1\n",
            "1  250 Nuns Just Cycled All The Way From Kathmand...      1\n",
            "2  Australian comedians \"could have been shot\" du...      0\n",
            "3  Lycos launches screensaver to increase spammer...      0\n",
            "4  Fußball-Bundesliga 2008–09: Goalkeeper Butt si...      0\n"
          ]
        }
      ]
    },
    {
      "cell_type": "markdown",
      "source": [
        "load the gen dataset"
      ],
      "metadata": {
        "id": "tp1iZ1sKDsb-"
      }
    },
    {
      "cell_type": "code",
      "source": [
        "file_path = \"gen_clickbait.csv\"  # Path to your CSV file\n",
        "data = pd.read_csv(file_path)\n",
        "\n",
        "# Display the first few rows to confirm the data structure\n",
        "print(data.head())\n",
        "\n",
        "\n",
        "gen_titles = data['title'].values\n",
        "gen_labels = data['label'].values\n",
        "\n",
        "print(len(gen_titles))\n",
        "print(len(gen_labels))\n"
      ],
      "metadata": {
        "colab": {
          "base_uri": "https://localhost:8080/"
        },
        "id": "UUN5ELyfDyPz",
        "outputId": "f393179b-0768-4df9-f71e-5fb6ef8252b0"
      },
      "execution_count": null,
      "outputs": [
        {
          "output_type": "stream",
          "name": "stdout",
          "text": [
            "                                               title  label\n",
            "0  21 Things Only People Who Love Coffee Will Und...      1\n",
            "1  30 Things You Didn't Know You Needed Until Rig...      1\n",
            "2       12 Ways To Make Your Mornings Less Miserable      1\n",
            "3  Scientists Discover New Species In The Depths ...      0\n",
            "4  Local Bakery Wins National Award For Best Croi...      0\n",
            "126\n",
            "126\n"
          ]
        }
      ]
    },
    {
      "cell_type": "markdown",
      "source": [
        "load the kaggle dataset"
      ],
      "metadata": {
        "id": "ULFmBJD6G3s-"
      }
    },
    {
      "cell_type": "code",
      "source": [
        "file_path = \"kaggle_clickbait_data.csv\"  # Path to your CSV file\n",
        "data = pd.read_csv(file_path)\n",
        "\n",
        "# Display the first few rows to confirm the data structure\n",
        "print(data.head())\n",
        "\n",
        "\n",
        "kaggle_titles = data['title'].values\n",
        "kaggle_labels = data['label'].values\n",
        "\n",
        "print(len(kaggle_titles))\n",
        "print(len(kaggle_labels))\n"
      ],
      "metadata": {
        "colab": {
          "base_uri": "https://localhost:8080/"
        },
        "id": "RJXc7o69G9TN",
        "outputId": "7fec5d21-79e7-4bfc-d43a-f68791b964a4"
      },
      "execution_count": null,
      "outputs": [
        {
          "output_type": "stream",
          "name": "stdout",
          "text": [
            "                                               title  label\n",
            "0                                 Should I Get Bings      1\n",
            "1      Which TV Female Friend Group Do You Belong In      1\n",
            "2  The New \"Star Wars: The Force Awakens\" Trailer...      1\n",
            "3  This Vine Of New York On \"Celebrity Big Brothe...      1\n",
            "4  A Couple Did A Stunning Photo Shoot With Their...      1\n",
            "32000\n",
            "32000\n"
          ]
        }
      ]
    },
    {
      "cell_type": "markdown",
      "source": [
        "Combine the three labeled datasets"
      ],
      "metadata": {
        "id": "T857E24_Xpz1"
      }
    },
    {
      "cell_type": "code",
      "source": [
        "# Combine titles and labels of the three datasets\n",
        "titles = np.concatenate((titles_one, gen_titles, kaggle_titles))\n",
        "labels = np.concatenate((labels_one, gen_labels, kaggle_labels))\n",
        "\n",
        "print(len(titles))\n",
        "print(len(labels))"
      ],
      "metadata": {
        "colab": {
          "base_uri": "https://localhost:8080/"
        },
        "id": "aeAkgDewXt65",
        "outputId": "05f1cc86-d890-4580-a7c1-48cf6580bc1f"
      },
      "execution_count": null,
      "outputs": [
        {
          "output_type": "stream",
          "name": "stdout",
          "text": [
            "64112\n",
            "64112\n"
          ]
        }
      ]
    },
    {
      "cell_type": "markdown",
      "source": [
        "setting up tokenizer and preprocessing labelled titles"
      ],
      "metadata": {
        "id": "c0Zkpy0sbT9S"
      }
    },
    {
      "cell_type": "code",
      "source": [
        "vocab_size = 10000  # Maximum number of words in the vocabulary\n",
        "max_len = 50  # Maximum number of words in a title (padding/truncating length)\n",
        "\n",
        "# Initialize and fit the tokenizer\n",
        "tokenizer = Tokenizer(num_words=vocab_size, oov_token='<OOV>')\n",
        "tokenizer.fit_on_texts(titles)\n",
        "\n",
        "#convert the text to sequence\n",
        "sequences = tokenizer.texts_to_sequences(titles)\n",
        "\n",
        "# pad the sequences to the same length\n",
        "padded_sequences = pad_sequences(sequences, maxlen=max_len, padding='post', truncating='post')"
      ],
      "metadata": {
        "id": "5bnSitvvbWtF"
      },
      "execution_count": null,
      "outputs": []
    },
    {
      "cell_type": "markdown",
      "source": [
        "Split the dataset into training and testing\n",
        "and validation\n"
      ],
      "metadata": {
        "id": "NOMgrvDjkLBp"
      }
    },
    {
      "cell_type": "code",
      "source": [
        "# First, split into training + validation and test sets\n",
        "X_trainNval, X_test, Y_trainNval, Y_test = train_test_split(padded_sequences, labels, test_size=0.3, random_state=42)\n",
        "\n",
        "# Then, split the training + validation set into training and validation sets\n",
        "X_train, X_validate, Y_train, Y_validate = train_test_split(X_trainNval, Y_trainNval, test_size=0.1, random_state=42)\n",
        "\n",
        "\n",
        "print(len(X_trainNval))\n",
        "print(len(X_validate))\n",
        "print(len(X_train))\n",
        "print(len(X_test))\n",
        "\n",
        "# random number that is used when shuffling data.\n",
        "# if this is not given it will generate a random number and use it to shuffle. but then if we do this again we'll get a different split. but if we configure once like this and also the next time\n",
        "# then the same split can be acquried."
      ],
      "metadata": {
        "id": "a_dBbztjkNuz",
        "colab": {
          "base_uri": "https://localhost:8080/"
        },
        "outputId": "7cfaa28c-39de-49e6-e550-3e21e4f14299"
      },
      "execution_count": null,
      "outputs": [
        {
          "output_type": "stream",
          "name": "stdout",
          "text": [
            "44878\n",
            "4488\n",
            "40390\n",
            "19234\n"
          ]
        }
      ]
    },
    {
      "cell_type": "markdown",
      "source": [
        "creating the CNN"
      ],
      "metadata": {
        "id": "0e8ur3BLlTFJ"
      }
    },
    {
      "cell_type": "code",
      "source": [
        "embedding_dim = 128  # Embedding vector size\n",
        "\n",
        "\n",
        "initial_model = Sequential([\n",
        "    Embedding(input_dim=vocab_size, output_dim=embedding_dim, input_length=max_len),\n",
        "    Conv1D(filters=128, kernel_size=5, activation='relu'),\n",
        "    GlobalMaxPooling1D(),\n",
        "    Dense(64, activation='relu', kernel_regularizer=tf.keras.regularizers.l2(0.01)),\n",
        "    Dropout(0.6),\n",
        "    BatchNormalization(),\n",
        "    Dense(1, activation='sigmoid')\n",
        "])\n"
      ],
      "metadata": {
        "id": "ld5K2OZOoSYY"
      },
      "execution_count": null,
      "outputs": []
    },
    {
      "cell_type": "markdown",
      "source": [
        "Compile the model"
      ],
      "metadata": {
        "id": "NSsyRMgrzeVj"
      }
    },
    {
      "cell_type": "code",
      "source": [
        "initial_model.compile(optimizer='adam', loss='binary_crossentropy', metrics=['accuracy'])"
      ],
      "metadata": {
        "id": "Fs4GZrMbzgRv"
      },
      "execution_count": null,
      "outputs": []
    },
    {
      "cell_type": "code",
      "source": [
        "print(len(padded_sequences))\n",
        "print(len(labels))\n",
        "\n",
        "\n",
        "\n"
      ],
      "metadata": {
        "colab": {
          "base_uri": "https://localhost:8080/"
        },
        "id": "5Nx6XxuE13j4",
        "outputId": "6c424c5e-95c1-4002-8fe1-267e0c6edbf2"
      },
      "execution_count": null,
      "outputs": [
        {
          "output_type": "stream",
          "name": "stdout",
          "text": [
            "64112\n",
            "64112\n"
          ]
        }
      ]
    },
    {
      "cell_type": "markdown",
      "source": [
        "Train the model"
      ],
      "metadata": {
        "id": "Gonfq8WRz3up"
      }
    },
    {
      "cell_type": "code",
      "source": [
        "history = initial_model.fit(X_train, Y_train, epochs=10, batch_size=32, validation_data=(X_validate, Y_validate))\n",
        "\n"
      ],
      "metadata": {
        "colab": {
          "base_uri": "https://localhost:8080/"
        },
        "id": "24l8GTlhz5dr",
        "outputId": "f1ece1d3-3fce-4fe1-a85a-f8d97e8ca0e6"
      },
      "execution_count": null,
      "outputs": [
        {
          "output_type": "stream",
          "name": "stdout",
          "text": [
            "Epoch 1/10\n",
            "1263/1263 [==============================] - 17s 12ms/step - loss: 0.2208 - accuracy: 0.9534 - val_loss: 0.0460 - val_accuracy: 0.9857\n",
            "Epoch 2/10\n",
            "1263/1263 [==============================] - 15s 12ms/step - loss: 0.0447 - accuracy: 0.9901 - val_loss: 0.0419 - val_accuracy: 0.9886\n",
            "Epoch 3/10\n",
            "1263/1263 [==============================] - 15s 12ms/step - loss: 0.0301 - accuracy: 0.9927 - val_loss: 0.0508 - val_accuracy: 0.9877\n",
            "Epoch 4/10\n",
            "1263/1263 [==============================] - 15s 12ms/step - loss: 0.0297 - accuracy: 0.9930 - val_loss: 0.0536 - val_accuracy: 0.9862\n",
            "Epoch 5/10\n",
            "1263/1263 [==============================] - 15s 12ms/step - loss: 0.0276 - accuracy: 0.9932 - val_loss: 0.0602 - val_accuracy: 0.9869\n",
            "Epoch 6/10\n",
            "1263/1263 [==============================] - 16s 12ms/step - loss: 0.0243 - accuracy: 0.9941 - val_loss: 0.0580 - val_accuracy: 0.9873\n",
            "Epoch 7/10\n",
            "1263/1263 [==============================] - 15s 12ms/step - loss: 0.0254 - accuracy: 0.9936 - val_loss: 0.0641 - val_accuracy: 0.9871\n",
            "Epoch 8/10\n",
            "1263/1263 [==============================] - 15s 12ms/step - loss: 0.0248 - accuracy: 0.9941 - val_loss: 0.0600 - val_accuracy: 0.9880\n",
            "Epoch 9/10\n",
            "1263/1263 [==============================] - 15s 12ms/step - loss: 0.0212 - accuracy: 0.9948 - val_loss: 0.0557 - val_accuracy: 0.9891\n",
            "Epoch 10/10\n",
            "1263/1263 [==============================] - 15s 12ms/step - loss: 0.0192 - accuracy: 0.9951 - val_loss: 0.0575 - val_accuracy: 0.9860\n"
          ]
        }
      ]
    },
    {
      "cell_type": "markdown",
      "source": [
        "Evaluate the model"
      ],
      "metadata": {
        "id": "Nd9Bl7GY0J2C"
      }
    },
    {
      "cell_type": "code",
      "source": [
        "test_loss, test_acc = initial_model.evaluate(X_test, Y_test)\n",
        "print(f\"Test Accuracy: {test_acc}\")"
      ],
      "metadata": {
        "colab": {
          "base_uri": "https://localhost:8080/"
        },
        "id": "Pjdi435L0Pu0",
        "outputId": "caed29ee-c4f3-40b6-872a-8ffa2f0f687f"
      },
      "execution_count": null,
      "outputs": [
        {
          "output_type": "stream",
          "name": "stdout",
          "text": [
            "602/602 [==============================] - 2s 3ms/step - loss: 0.0642 - accuracy: 0.9880\n",
            "Test Accuracy: 0.9880419969558716\n"
          ]
        }
      ]
    },
    {
      "cell_type": "markdown",
      "source": [
        "perform predictions"
      ],
      "metadata": {
        "id": "PrxuPXiX0WA0"
      }
    },
    {
      "cell_type": "code",
      "source": [
        "predictions = initial_model.predict(X_test)\n",
        "print(predictions[:30])  # Display the first 10 predictions\n",
        "\n",
        "# Convert probabilities to binary predictions\n",
        "threshold = 0.5\n",
        "binary_predictions = (predictions >= threshold).astype(int)\n",
        "\n",
        "print(binary_predictions[:10])  # Display the first 10 binary predictions"
      ],
      "metadata": {
        "colab": {
          "base_uri": "https://localhost:8080/"
        },
        "id": "NEDczT2T0Xjg",
        "outputId": "c0076634-371f-469b-aab8-6cce4d45c8c1"
      },
      "execution_count": null,
      "outputs": [
        {
          "output_type": "stream",
          "name": "stdout",
          "text": [
            "602/602 [==============================] - 2s 2ms/step\n",
            "[[9.9434412e-01]\n",
            " [8.6390091e-06]\n",
            " [9.9869329e-01]\n",
            " [9.9960947e-01]\n",
            " [8.4469704e-08]\n",
            " [9.9995857e-01]\n",
            " [1.4103936e-05]\n",
            " [9.9995464e-01]\n",
            " [9.9990958e-01]\n",
            " [9.5120412e-10]\n",
            " [9.9970943e-01]\n",
            " [9.9998748e-01]\n",
            " [5.6274696e-10]\n",
            " [9.9991781e-01]\n",
            " [9.9990487e-01]\n",
            " [9.9969399e-01]\n",
            " [2.7558907e-11]\n",
            " [9.9966604e-01]\n",
            " [9.9997509e-01]\n",
            " [3.5452983e-09]\n",
            " [2.1027207e-09]\n",
            " [4.9629558e-05]\n",
            " [9.2578340e-01]\n",
            " [9.9992263e-01]\n",
            " [7.4818871e-07]\n",
            " [7.2508783e-12]\n",
            " [9.9998778e-01]\n",
            " [9.9998087e-01]\n",
            " [9.9976277e-01]\n",
            " [9.9899054e-01]]\n",
            "[[1]\n",
            " [0]\n",
            " [1]\n",
            " [1]\n",
            " [0]\n",
            " [1]\n",
            " [0]\n",
            " [1]\n",
            " [1]\n",
            " [0]]\n"
          ]
        }
      ]
    },
    {
      "cell_type": "markdown",
      "source": [
        "Read the tartgetTitles from the train.jsonl and validation.jsonl"
      ],
      "metadata": {
        "id": "4E8XyFNhHxv4"
      }
    },
    {
      "cell_type": "code",
      "source": [
        "import json\n",
        "\n",
        "# Function to read JSONL files and extract targetTitles\n",
        "def extract_titles_from_jsonl(file_path):\n",
        "    titles = []\n",
        "    with open(file_path, 'r') as file:\n",
        "        for line in file:\n",
        "            data = json.loads(line)\n",
        "            if 'targetTitle' in data:\n",
        "                titles.append(data['targetTitle'])\n",
        "    return titles\n",
        "\n",
        "train_file_path = 'train.jsonl'\n",
        "validation_file_path = 'validation.jsonl'\n",
        "\n",
        "train_titles = extract_titles_from_jsonl(train_file_path)\n",
        "validation_titles = extract_titles_from_jsonl(validation_file_path)\n",
        "\n",
        "all_unlabelled_titles = train_titles + validation_titles\n"
      ],
      "metadata": {
        "id": "OFVpP2skH3db"
      },
      "execution_count": null,
      "outputs": []
    },
    {
      "cell_type": "code",
      "source": [
        "print(\"First 10 training titles:\")\n",
        "for i, title in enumerate(train_titles[:10]):\n",
        "    print(f\"{i+1}. {title}\")\n",
        "print(len(train_titles))\n",
        "\n",
        "print(\"First 10 validation titles:\")\n",
        "for i, title in enumerate(validation_titles[:10]):\n",
        "    print(f\"{i+1}. {title}\")\n",
        "print(len(validation_titles))"
      ],
      "metadata": {
        "colab": {
          "base_uri": "https://localhost:8080/"
        },
        "id": "_Uav3BYdm0Mj",
        "outputId": "a4608e4d-1a0b-4ca1-c73d-71282a98d102"
      },
      "execution_count": null,
      "outputs": [
        {
          "output_type": "stream",
          "name": "stdout",
          "text": [
            "First 10 training titles:\n",
            "1. Wes Welker Wanted Dinner With Tom Brady, But Patriots QB Had A Better Idea\n",
            "2. Hole In Ozone Layer Expected To Make Full Recovery By 2070: NASA\n",
            "3. Intellectual Stimulation Trumps Money For Employee Happiness, Survey Finds\n",
            "4. ‘Follow your passion’ is wrong, here are 7 habits you need instead\n",
            "5. Revealed: The perfect way to cook rice so that it's perfectly fluffy and NEVER sticks to the bottom of the pan \n",
            "6. Here's what happens if your Apple AirPods get lost or stolen\n",
            "7. The Reason Why Gabor Kiraly Wears THOSE Trackie Bottoms\n",
            "8. You’ll Never Believe What This Family Saw in the Sky Outside Their House in Finland.\n",
            "9. Should I Drink Red Wine?\n",
            "10. Taste test: 29 hot sauce bottles, ranked\n",
            "3200\n",
            "First 10 validation titles:\n",
            "1. Five Nights at Freddy’s Sequel Delayed for Weird Reason\n",
            "2. Why Arizona Sheriff Joe Arpaio’s fate could hang on a single word\n",
            "3. Here’s how much you should be tipping your hairdresser\n",
            "4. Alan Rickman & Rupert Grint On 'CBGB,' Reuniting Post-'Potter' And Favorite Halloween Costumes\n",
            "5. Man swallowed a microSD card and you won't believe what happened next!\n",
            "6. Sprite May Be The Best Hangover Cure, Chinese Researchers Say\n",
            "7. The Anytime Snack You Won't Feel Guilty About Eating (VIDEO)\n",
            "8. You Won’t Believe This Stunning ‘Harry Potter’ Revelation About Professor McGonagall\n",
            "9. J.J. Abrams has an answer on if there will be a post-credits scene in the new 'Star Wars'\n",
            "10. Kristin Cavallari Talks 'The Hills' Being Fake\n",
            "800\n"
          ]
        }
      ]
    },
    {
      "cell_type": "markdown",
      "source": [
        "extracting padded seuqnces of unlabelled training data and validation data\n"
      ],
      "metadata": {
        "id": "DB1mfV8-DObk"
      }
    },
    {
      "cell_type": "code",
      "source": [
        "# function to extract padded sequences\n",
        "def extract_padded_seuqnces(titles):\n",
        "\n",
        "  unlabelled_sequences = tokenizer.texts_to_sequences(titles)\n",
        "  padded_sequences = pad_sequences(unlabelled_sequences, maxlen=max_len, padding='post', truncating='post')\n",
        "  return padded_sequences\n",
        "\n",
        "\n",
        "padded_unlabelled_all_sequences = extract_padded_seuqnces(all_unlabelled_titles)\n"
      ],
      "metadata": {
        "id": "T97ONFewDS4F"
      },
      "execution_count": null,
      "outputs": []
    },
    {
      "cell_type": "markdown",
      "source": [
        "generate the pseudo labels for the unlabeled data"
      ],
      "metadata": {
        "id": "Oa5jZ1BsU5Tg"
      }
    },
    {
      "cell_type": "code",
      "source": [
        "# function to generate pseudo labels for unlabelled data and process them\n",
        "\n",
        "def generate_formatted_pseudo_labels(padded_sequences):\n",
        "  pseudo_labels = initial_model.predict(padded_sequences)\n",
        "  pseudo_labels = (pseudo_labels > 0.5).astype(int).flatten() # rounding off the predicted values to 1 or 0.\n",
        "  return pseudo_labels\n",
        "\n",
        "# pseudo_labels_training = generate_formatted_pseudo_labels(padded_unlabelled_training_sequences)\n",
        "# pseudo_labels_validation = generate_formatted_pseudo_labels(padded_unlabelled_validation_sequences)\n",
        "\n",
        "pseudo_labels = generate_formatted_pseudo_labels(padded_unlabelled_all_sequences)\n",
        "\n",
        "print(pseudo_labels)"
      ],
      "metadata": {
        "colab": {
          "base_uri": "https://localhost:8080/"
        },
        "id": "TSO-17wyU8Rh",
        "outputId": "9c22cef9-27c9-4a46-c7b6-87940b4273ca"
      },
      "execution_count": null,
      "outputs": [
        {
          "output_type": "stream",
          "name": "stdout",
          "text": [
            "125/125 [==============================] - 0s 3ms/step\n",
            "[1 0 0 ... 1 0 0]\n"
          ]
        }
      ]
    },
    {
      "cell_type": "markdown",
      "source": [
        "combine the\n",
        "\n",
        "1.   labelled and unlabelled sequences\n",
        "2.   labels and pseudo labels\n",
        "\n",
        "\n"
      ],
      "metadata": {
        "id": "3TFbSX6jV4zy"
      }
    },
    {
      "cell_type": "code",
      "source": [
        "X_combined = np.vstack((padded_sequences, padded_unlabelled_all_sequences))\n",
        "y_combined = np.concatenate((labels, pseudo_labels))"
      ],
      "metadata": {
        "id": "TJ2tEFShV9aT"
      },
      "execution_count": null,
      "outputs": []
    },
    {
      "cell_type": "markdown",
      "source": [
        "Split the combined dataset\n"
      ],
      "metadata": {
        "id": "m3ydaSMjO9pe"
      }
    },
    {
      "cell_type": "code",
      "source": [
        "\n",
        "# spliting data for trainingNtesting and validation\n",
        "final_X_trainNval, final_X_test,  final_Y_trainNval, final_Y_test = train_test_split(X_combined, y_combined, test_size=0.3, random_state=42)\n",
        "\n",
        "# spliting data for training and testing\n",
        "final_X_train, final_X_validate,  final_Y_train, final_Y_validate = train_test_split(final_X_trainNval, final_Y_trainNval, test_size=0.15, random_state=42)\n",
        "\n"
      ],
      "metadata": {
        "id": "ANTMYzO2PAX6"
      },
      "execution_count": null,
      "outputs": []
    },
    {
      "cell_type": "code",
      "source": [
        "print(len(final_X_trainNval))\n",
        "print(len(final_X_test))\n",
        "print(len(final_X_train))\n",
        "print(len(final_X_validate))"
      ],
      "metadata": {
        "colab": {
          "base_uri": "https://localhost:8080/"
        },
        "id": "MVM1pLtupztR",
        "outputId": "c1a6f223-5bb1-488b-c399-441365c0cc32"
      },
      "execution_count": null,
      "outputs": [
        {
          "output_type": "stream",
          "name": "stdout",
          "text": [
            "47678\n",
            "20434\n",
            "40526\n",
            "7152\n"
          ]
        }
      ]
    },
    {
      "cell_type": "markdown",
      "source": [
        "Build the final model"
      ],
      "metadata": {
        "id": "yKEb1avFStTv"
      }
    },
    {
      "cell_type": "code",
      "source": [
        "final_model = Sequential([\n",
        "    Embedding(input_dim=vocab_size, output_dim=embedding_dim, input_length=max_len),\n",
        "    Conv1D(filters=128, kernel_size=5, activation='relu'),\n",
        "    GlobalMaxPooling1D(),\n",
        "    Dense(128, activation='relu'),\n",
        "    Dropout(0.5),\n",
        "    Dense(1, activation='sigmoid')\n",
        "])"
      ],
      "metadata": {
        "id": "DD2QtE19SvP9"
      },
      "execution_count": null,
      "outputs": []
    },
    {
      "cell_type": "markdown",
      "source": [
        "Compile the final model"
      ],
      "metadata": {
        "id": "b1frE23KTz0v"
      }
    },
    {
      "cell_type": "code",
      "source": [
        "final_model.compile(optimizer='adam', loss='binary_crossentropy', metrics=['accuracy'])"
      ],
      "metadata": {
        "id": "6NdY3IBXT1ZY"
      },
      "execution_count": null,
      "outputs": []
    },
    {
      "cell_type": "markdown",
      "source": [
        "Train the final model"
      ],
      "metadata": {
        "id": "rH4CPS3YULC8"
      }
    },
    {
      "cell_type": "code",
      "source": [
        "final_model.fit(final_X_train, final_Y_train, epochs=10, batch_size=32, validation_data=(final_X_validate,final_Y_validate) )\n",
        "\n"
      ],
      "metadata": {
        "colab": {
          "base_uri": "https://localhost:8080/"
        },
        "id": "YW3ckx_8al0P",
        "outputId": "f3bf664b-72af-4ab7-a7b8-6be278267aaa"
      },
      "execution_count": null,
      "outputs": [
        {
          "output_type": "stream",
          "name": "stdout",
          "text": [
            "Epoch 1/10\n",
            "1267/1267 [==============================] - 15s 11ms/step - loss: 0.0749 - accuracy: 0.9733 - val_loss: 0.0540 - val_accuracy: 0.9811\n",
            "Epoch 2/10\n",
            "1267/1267 [==============================] - 14s 11ms/step - loss: 0.0162 - accuracy: 0.9944 - val_loss: 0.0574 - val_accuracy: 0.9839\n",
            "Epoch 3/10\n",
            "1267/1267 [==============================] - 14s 11ms/step - loss: 0.0055 - accuracy: 0.9981 - val_loss: 0.0766 - val_accuracy: 0.9825\n",
            "Epoch 4/10\n",
            "1267/1267 [==============================] - 14s 11ms/step - loss: 0.0041 - accuracy: 0.9987 - val_loss: 0.1093 - val_accuracy: 0.9811\n",
            "Epoch 5/10\n",
            "1267/1267 [==============================] - 14s 11ms/step - loss: 0.0029 - accuracy: 0.9990 - val_loss: 0.1073 - val_accuracy: 0.9828\n",
            "Epoch 6/10\n",
            "1267/1267 [==============================] - 14s 11ms/step - loss: 0.0024 - accuracy: 0.9994 - val_loss: 0.1099 - val_accuracy: 0.9814\n",
            "Epoch 7/10\n",
            "1267/1267 [==============================] - 14s 11ms/step - loss: 0.0027 - accuracy: 0.9990 - val_loss: 0.1357 - val_accuracy: 0.9824\n",
            "Epoch 8/10\n",
            "1267/1267 [==============================] - 14s 11ms/step - loss: 0.0026 - accuracy: 0.9992 - val_loss: 0.1229 - val_accuracy: 0.9804\n",
            "Epoch 9/10\n",
            "1267/1267 [==============================] - 14s 11ms/step - loss: 0.0011 - accuracy: 0.9997 - val_loss: 0.1488 - val_accuracy: 0.9806\n",
            "Epoch 10/10\n",
            "1267/1267 [==============================] - 14s 11ms/step - loss: 9.8434e-04 - accuracy: 0.9997 - val_loss: 0.2160 - val_accuracy: 0.9787\n"
          ]
        },
        {
          "output_type": "execute_result",
          "data": {
            "text/plain": [
              "<keras.src.callbacks.History at 0x7f5847c3a560>"
            ]
          },
          "metadata": {},
          "execution_count": 26
        }
      ]
    },
    {
      "cell_type": "markdown",
      "source": [
        "Test the accuracy of the final model"
      ],
      "metadata": {
        "id": "lf9jKLXUbEkq"
      }
    },
    {
      "cell_type": "code",
      "source": [
        "final_test_loss, final_test_acc = final_model.evaluate(final_X_test, final_Y_test)\n",
        "print(f\"Final Test Accuracy: {final_test_acc}\")"
      ],
      "metadata": {
        "colab": {
          "base_uri": "https://localhost:8080/"
        },
        "id": "nB4T2uqabHO2",
        "outputId": "9114a4dc-62e9-48fe-fad9-cd8c1bdb1e16"
      },
      "execution_count": null,
      "outputs": [
        {
          "output_type": "stream",
          "name": "stdout",
          "text": [
            "639/639 [==============================] - 2s 3ms/step - loss: 0.2020 - accuracy: 0.9803\n",
            "Final Test Accuracy: 0.9803268909454346\n"
          ]
        }
      ]
    },
    {
      "cell_type": "markdown",
      "source": [
        "predict the test data set with the final model"
      ],
      "metadata": {
        "id": "Y4iewOMmlIIO"
      }
    },
    {
      "cell_type": "code",
      "source": [
        "predictions = final_model.predict(final_X_test)\n",
        "# print(predictions[:30])  # Display the first 10 predictions\n",
        "\n",
        "# Convert probabilities to binary predictions\n",
        "threshold = 0.5\n",
        "binary_predictions = (predictions >= threshold).astype(int)\n",
        "\n",
        "# print(binary_predictions[:10])\n",
        "\n",
        "num_to_print = 10\n",
        "\n",
        "# Print titles and predictions\n",
        "print(f\"{'Title':<50} {'Prediction':<20}\")\n",
        "print(\"=\"*70)\n",
        "\n",
        "for title, prediction in zip(validation_titles[:num_to_print], binary_predictions[:num_to_print]):\n",
        "    print(f\"{title:<50} {prediction}\")"
      ],
      "metadata": {
        "colab": {
          "base_uri": "https://localhost:8080/"
        },
        "id": "iuRPP97klKzN",
        "outputId": "2ee184ba-0c97-4937-8f1e-b700a958e0f6"
      },
      "execution_count": null,
      "outputs": [
        {
          "output_type": "stream",
          "name": "stdout",
          "text": [
            "639/639 [==============================] - 2s 2ms/step\n",
            "Title                                              Prediction          \n",
            "======================================================================\n",
            "Five Nights at Freddy’s Sequel Delayed for Weird Reason [1]\n",
            "Why Arizona Sheriff Joe Arpaio’s fate could hang on a single word [1]\n",
            "Here’s how much you should be tipping your hairdresser [1]\n",
            "Alan Rickman & Rupert Grint On 'CBGB,' Reuniting Post-'Potter' And Favorite Halloween Costumes [1]\n",
            "Man swallowed a microSD card and you won't believe what happened next! [0]\n",
            "Sprite May Be The Best Hangover Cure, Chinese Researchers Say [1]\n",
            "The Anytime Snack You Won't Feel Guilty About Eating (VIDEO) [1]\n",
            "You Won’t Believe This Stunning ‘Harry Potter’ Revelation About Professor McGonagall [0]\n",
            "J.J. Abrams has an answer on if there will be a post-credits scene in the new 'Star Wars' [1]\n",
            "Kristin Cavallari Talks 'The Hills' Being Fake     [1]\n"
          ]
        }
      ]
    },
    {
      "cell_type": "markdown",
      "source": [
        "Create the confusion matrix"
      ],
      "metadata": {
        "id": "I5rsfOWOdl79"
      }
    },
    {
      "cell_type": "code",
      "source": [
        "%matplotlib inline\n",
        "from sklearn.metrics import confusion_matrix\n",
        "import itertools\n",
        "import matplotlib.pyplot as plt\n",
        "\n",
        "def plot_confusion_matrix(cm, classes,\n",
        "                          normalize=False,\n",
        "                          title='confusion_matrix',\n",
        "                          cmap =plt.cm.Blues):\n",
        "  \"\"\"\n",
        "  This function prints and plots the confusion matrix.\n",
        "  Normalization can be applied by setting `normalize=True`.\n",
        "  \"\"\"\n",
        "\n",
        "  plt.imshow(cm, interpolation='nearest', cmap=cmap)\n",
        "  plt.title(title)\n",
        "  plt.colorbar()\n",
        "  tick_marks = np.arange(len(classes))\n",
        "  plt.xticks(tick_marks, classes, rotation=45)\n",
        "  plt.yticks(tick_marks, classes)\n",
        "\n",
        "  if normalize:\n",
        "      cm = cm.astype('float') / cm.sum(axis=1)[:, np.newaxis]\n",
        "      print(\"Normalized confusion matrix\")\n",
        "  else:\n",
        "      print('Confusion matrix, without normalization')\n",
        "\n",
        "  print(cm)\n",
        "\n",
        "  thresh = cm.max() / 2.\n",
        "  for i, j in itertools.product(range(cm.shape[0]), range(cm.shape[1])):\n",
        "      plt.text(j, i, cm[i, j],\n",
        "          horizontalalignment=\"center\",\n",
        "          color=\"white\" if cm[i, j] > thresh else \"black\")\n",
        "\n",
        "  plt.tight_layout()\n",
        "  plt.ylabel('True label')\n",
        "  plt.xlabel('Predicted label')"
      ],
      "metadata": {
        "id": "isgJWO4Idpqg"
      },
      "execution_count": null,
      "outputs": []
    },
    {
      "cell_type": "code",
      "source": [
        "cm = confusion_matrix(y_true=final_Y_test, y_pred=binary_predictions)\n",
        "\n",
        "cm_classes = ['no_clickbait', 'clickbait']\n",
        "plot_confusion_matrix(cm=cm, classes=cm_classes)"
      ],
      "metadata": {
        "colab": {
          "base_uri": "https://localhost:8080/",
          "height": 558
        },
        "id": "pVRdeEUCdyIv",
        "outputId": "0d62fad7-197c-4a10-dcf9-253a6a203fad"
      },
      "execution_count": null,
      "outputs": [
        {
          "output_type": "stream",
          "name": "stdout",
          "text": [
            "Confusion matrix, without normalization\n",
            "[[ 9600   280]\n",
            " [  122 10432]]\n"
          ]
        },
        {
          "output_type": "display_data",
          "data": {
            "text/plain": [
              "<Figure size 640x480 with 2 Axes>"
            ],
            "image/png": "[encoded data removed]"
          },
          "metadata": {}
        }
      ]
    },
    {
      "cell_type": "markdown",
      "source": [
        "Download tokenizer"
      ],
      "metadata": {
        "id": "e9RwzU4wim4C"
      }
    },
    {
      "cell_type": "code",
      "source": [
        "tokenizer_json = tokenizer.to_json()\n",
        "with open('tokenizer_v2.json', 'w', encoding='utf-8') as f:\n",
        "    f.write(json.dumps(tokenizer_json, ensure_ascii=False))"
      ],
      "metadata": {
        "id": "MHjryXrIipF4"
      },
      "execution_count": null,
      "outputs": []
    },
    {
      "cell_type": "markdown",
      "source": [
        "Save model"
      ],
      "metadata": {
        "id": "h41UbIf_q_NZ"
      }
    },
    {
      "cell_type": "code",
      "source": [
        "# Save the model to a file (HDF5 format)\n",
        "final_model.save('CNN_clickbait_model_v2.h5')\n",
        "\n",
        "# Save the model to a directory (SavedModel format)\n",
        "final_model.save('CNN_clickbait_model_v2.keras')\n"
      ],
      "metadata": {
        "colab": {
          "base_uri": "https://localhost:8080/"
        },
        "id": "WoIiWKUPrAaM",
        "outputId": "e8c8581f-2033-41b2-b6b1-7b72ede305c2"
      },
      "execution_count": null,
      "outputs": [
        {
          "output_type": "stream",
          "name": "stderr",
          "text": [
            "/usr/local/lib/python3.10/dist-packages/keras/src/engine/training.py:3103: UserWarning: You are saving your model as an HDF5 file via `model.save()`. This file format is considered legacy. We recommend using instead the native Keras format, e.g. `model.save('my_model.keras')`.\n",
            "  saving_api.save_model(\n"
          ]
        }
      ]
    },
    {
      "cell_type": "markdown",
      "source": [
        "Download model"
      ],
      "metadata": {
        "id": "0-LYClzErFO7"
      }
    },
    {
      "cell_type": "code",
      "source": [
        "\n",
        "\n",
        "# For TensorFlow SavedModel format\n",
        "# Use the directory name instead of a file name\n",
        "!zip -r CNN_clickbait_model_v1.zip CNN_clickbait_model_v1.keras\n",
        "from google.colab import files\n",
        "\n",
        "files.download('CNN_clickbait_model_v2.zip')\n"
      ],
      "metadata": {
        "colab": {
          "base_uri": "https://localhost:8080/",
          "height": 34
        },
        "id": "sB3jw0BcrGjW",
        "outputId": "2b7b111a-cd8a-4569-997d-dac6e605fca5"
      },
      "execution_count": null,
      "outputs": [
        {
          "output_type": "stream",
          "name": "stdout",
          "text": [
            "  adding: CNN_clickbait_model_v1.keras (deflated 7%)\n"
          ]
        },
        {
          "output_type": "display_data",
          "data": {
            "text/plain": [
              "<IPython.core.display.Javascript object>"
            ],
            "application/javascript": [
              "\n",
              "    async function download(id, filename, size) {\n",
              "      if (!google.colab.kernel.accessAllowed) {\n",
              "        return;\n",
              "      }\n",
              "      const div = document.createElement('div');\n",
              "      const label = document.createElement('label');\n",
              "      label.textContent = `Downloading \"${filename}\": `;\n",
              "      div.appendChild(label);\n",
              "      const progress = document.createElement('progress');\n",
              "      progress.max = size;\n",
              "      div.appendChild(progress);\n",
              "      document.body.appendChild(div);\n",
              "\n",
              "      const buffers = [];\n",
              "      let downloaded = 0;\n",
              "\n",
              "      const channel = await google.colab.kernel.comms.open(id);\n",
              "      // Send a message to notify the kernel that we're ready.\n",
              "      channel.send({})\n",
              "\n",
              "      for await (const message of channel.messages) {\n",
              "        // Send a message to notify the kernel that we're ready.\n",
              "        channel.send({})\n",
              "        if (message.buffers) {\n",
              "          for (const buffer of message.buffers) {\n",
              "            buffers.push(buffer);\n",
              "            downloaded += buffer.byteLength;\n",
              "            progress.value = downloaded;\n",
              "          }\n",
              "        }\n",
              "      }\n",
              "      const blob = new Blob(buffers, {type: 'application/binary'});\n",
              "      const a = document.createElement('a');\n",
              "      a.href = window.URL.createObjectURL(blob);\n",
              "      a.download = filename;\n",
              "      div.appendChild(a);\n",
              "      a.click();\n",
              "      div.remove();\n",
              "    }\n",
              "  "
            ]
          },
          "metadata": {}
        },
        {
          "output_type": "display_data",
          "data": {
            "text/plain": [
              "<IPython.core.display.Javascript object>"
            ],
            "application/javascript": [
              "download(\"download_2dec1487-90fd-429f-af98-6f667d1c522c\", \"CNN_clickbait_model_v1.zip\", 15408487)"
            ]
          },
          "metadata": {}
        }
      ]
    }
  ]
}